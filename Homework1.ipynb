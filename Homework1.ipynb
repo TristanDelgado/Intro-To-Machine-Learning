{
  "nbformat": 4,
  "nbformat_minor": 0,
  "metadata": {
    "colab": {
      "provenance": [],
      "authorship_tag": "ABX9TyN1O0Fflg0HBhEdXRnDHLyZ",
      "include_colab_link": true
    },
    "kernelspec": {
      "name": "python3",
      "display_name": "Python 3"
    },
    "language_info": {
      "name": "python"
    }
  },
  "cells": [
    {
      "cell_type": "markdown",
      "metadata": {
        "id": "view-in-github",
        "colab_type": "text"
      },
      "source": [
        "<a href=\"https://colab.research.google.com/github/TristanDelgado/Intro-To-Machine-Learning/blob/main/Homework1.ipynb\" target=\"_parent\"><img src=\"https://colab.research.google.com/assets/colab-badge.svg\" alt=\"Open In Colab\"/></a>"
      ]
    },
    {
      "cell_type": "markdown",
      "source": [
        "#Machine Learning CS-4410-XTIA Homework 1"
      ],
      "metadata": {
        "id": "e7TuA_H715TN"
      }
    },
    {
      "cell_type": "markdown",
      "source": [
        "##Problem 9.16 - Working with the *diamonds.csv* Dataset in Pandas"
      ],
      "metadata": {
        "id": "SZwhCNTx2BKm"
      }
    },
    {
      "cell_type": "code",
      "execution_count": null,
      "metadata": {
        "colab": {
          "base_uri": "https://localhost:8080/"
        },
        "id": "V1e_bhNp11nN",
        "outputId": "a00d160c-72a2-495f-e534-5e9d4edd5574"
      },
      "outputs": [
        {
          "output_type": "stream",
          "name": "stdout",
          "text": [
            "Path to dataset files: /root/.cache/kagglehub/datasets/shivam2503/diamonds/versions/1\n"
          ]
        }
      ],
      "source": [
        "#Step 1: Import diamonds.csv into the notebook\n",
        "import kagglehub\n",
        "\n",
        "# Download latest version\n",
        "path = kagglehub.dataset_download(\"shivam2503/diamonds\")\n",
        "print(\"Path to dataset files:\", path)"
      ]
    },
    {
      "cell_type": "code",
      "source": [],
      "metadata": {
        "id": "Ws28bXtn140F"
      },
      "execution_count": null,
      "outputs": []
    }
  ]
}